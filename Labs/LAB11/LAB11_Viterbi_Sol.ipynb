{
 "cells": [
  {
   "cell_type": "markdown",
   "metadata": {},
   "source": [
    "# Lab 11 (Option 1) - Viterbi\n",
    "\n",
    "*This lab has been iteratively developed for EE 126 at UC Berkeley by Rishi Sharma, Sahaana Suri,  Paul Rigge, Kangwook Lee, Kabir Chandrasekher, Max Kanwal, Tony Duan, David Marn, Ashvin Nair, Tavor Baharav, Sinho Chewi, Andrew Liu, Kamil Nar, David Wang, and Kannan Ramchandran*\n",
    "\n",
    "Special thanks to David Tse and the teaching staff of EE178 at Stanford for their modifications to this lab.\n",
    "\n",
    "----------------------------------------------------------------------------------------------------------------------\n",
    "Alice and Bob are working together to bake some treats.\n",
    "Alice is in charge of sending Bob the recipe, and Bob is responsible for following directions.\n",
    "Bob is *extremely* literal- if an error in the recipe says to use 2000 eggs instead of 2, he will use 2000 eggs without a second thought.\n",
    "Alice is aware of Bob's lack of common sense, but she is also busy.\n",
    "She already has the recipe open on her phone, so she wants to send it via email (using wifi) to Bob.\n",
    "Unfortunately, Alice's evil next-door-neighboor Eve has her microwave running continuously at maximum power.\n",
    "Microwaves emit a lot of radiation around wifi's 2.4GHz channels, causing interference.\n",
    "This lab will explore different techniques for ensuring that Alice's message will make it to Bob uncorrupted."
   ]
  },
  {
   "cell_type": "markdown",
   "metadata": {},
   "source": [
    "## Preliminaries\n",
    "\n",
    "We assume that Alice's message is $N$ bits long with each bit iid Bernoulli(0.5).\n",
    "We model the channel as a [binary symmetric channel](http://en.wikipedia.org/wiki/Binary_symmetric_channel), as shown below.\n",
    "Each bit sent through the channel is flipped (independently) with probability p.\n",
    "We'll assume p=0.05, which is a fairly typical value for wireless communications.\n",
    "\n",
    "![Alt](http://upload.wikimedia.org/wikipedia/commons/8/8e/Binary_symmetric_channel_%28en%29.svg)"
   ]
  },
  {
   "cell_type": "markdown",
   "metadata": {},
   "source": [
    "## Convolutional Coding\n",
    "It should make intuitive sense that we can get to low probabilities of error if we increase the number of repetitions.\n",
    "However, increasing the number of repetitions means we are lowering Alice's effective datarate.\n",
    "Alice's phone also has limited battery life, and sending lots of copies of the same data consumes a lot of energy.\n",
    "Is it possible to correct a lot of errors without having to send so many extra bits? \n",
    "\n",
    "Yes! The 802.11 standards for wifi use convolutional codes and LDPC codes to correct errors.\n",
    "Convolutional codes can be efficiently decoded using the Viterbi algorithm, so they will be the focus of this lab.\n",
    "<img src=\"http://imgur.com/BzlsY89.png\" width=\"500px\"></img>\n",
    "\n",
    "The above picture is a block diagram for a simple convolutional encoder.\n",
    "The input message is treated as a stream of bits \n",
    "\n",
    "$$d_0, d_1, d_2, d_3 \\ldots$$\n",
    "\n",
    "The input is shifted through a series of delays - at time k, the input is $d_k$, the first delay element (the \"D\" on the left) contains $d_{k-1}$, and the last delay elements (the \"D\" on the right) contains $d_{k-2}$.\n",
    "In this example, each input bit produces two output bits - the first output computed by the top \"adder\" and the second output computed by the bottom \"adder\". We denote the output of the top adder as $u_k$ and the bottom adder as $v_k$. The equations for each are given by\n",
    "\n",
    "\\begin{align*}\n",
    "u_k &= d_k + d_{k-2} &\\text{mod } 2\\\\\n",
    "v_k &= d_k + d_{k-1} + d_{k-2} &\\text{mod } 2\n",
    "\\end{align*}\n",
    "\n",
    "We further define $d_{-2}= d_{-1}=0$ for initalization of the algorithm. The two outputs are interleaved into one bitstream so the output is $(u_0, v_0, u_1, v_1, u_2, v_2, ...)$.\n",
    "\n",
    "The first thing to note is that this is not actually all that different from repetition coding.\n",
    "Like repetition coding, we are adding redundancy by generating multiple output bits per input bit.\n",
    "However, unlike repetition coding, convolutional codes have *memory*.\n",
    "Each output bit is a function of multiple input bits.\n",
    "The idea is that if there is an error, you should be able to use the surrounding bit estimates to help you figure out what was actually sent.\n",
    "\n",
    "The figure below shows the state transition diagram corresponding to the example encoder above.\n",
    "Each transition is labelled $d_k/(u_k, v_k)$.\n",
    "The two bits inside the circle correspond to the *state*. In order to compute the next output we must have $d_{k-2},d_{k-1}$ so we represent our state to as two numbers $d_{k-2}d_{k-1}$ (of which there are 4 different combinations). \n",
    "\n",
    "As an example, consider the state $10$ and the transition $1/00$. We first identify $d_{k-2} = 1$ and $d_{k-1}=0$ from the state. From the transition information we identify $d_k = 1$, $u_k = 0$, and $v_k = 0$ (note that $u_k$ and $v_k$ need not be given as they are entirely determined by the other three variables). The new state is then $d_{k-1}d_k = 10$ which is consistent with the diagram\n",
    "\n",
    "Be sure to convince yourself that the encoder above is equivalent to the state transition diagram below.\n",
    "\n",
    "<img src=\"http://imgur.com/W9fSfpn.png\" width=\"300px\"></img>\n",
    "\n",
    "If we assume that the input bits are iid Bernoulli(0.5), this is a Markov chain with every state equally likely.\n",
    "We can run the Viterbi algorithm on our output bits (even after going through a noisy channel) to recover a good estimate of the input bits.\n",
    "\n",
    "We assume that we start state 0.\n",
    "\n"
   ]
  },
  {
   "cell_type": "markdown",
   "metadata": {},
   "source": [
    "## Q1 The Convolutional Encoder\n",
    "### (A) Implement a general encoder, that encodes bits like above, for arbitrary generators. Your code will go in the encode function. \n",
    "*Hint*: Try to understand what the function apply_generator does.  It is helpful to go through some examples by hand before you start coding."
   ]
  },
  {
   "cell_type": "markdown",
   "metadata": {},
   "source": [
    "## <font color='red'> Solution"
   ]
  },
  {
   "cell_type": "code",
   "execution_count": 1,
   "metadata": {
    "collapsed": false
   },
   "outputs": [],
   "source": [
    "import numpy as np\n",
    "\n",
    "# Takes in d_{k},d_{k-1},d_{k-2} as the 'state' and computes the output (a 1 or 0) \n",
    "# by XORing the bits specified by generator. \n",
    "# The generator basically tells the function whether to compute u_k or v_k in the above block diagram\n",
    "def apply_generator(state, generator):\n",
    "    return reduce(lambda x,y: x^y, map(lambda x: x[0]*x[1], zip(state,generator)), 0)\n",
    "\n",
    "example_generators=[[1,0,1], [1,1,1]]  # Specifies the coefficients to be used in the output of our convolutional code\n",
    "\n",
    "# Given a bit stream, performs the operations in the block diagram above\n",
    "def encode(bits_in, generators=example_generators):\n",
    "    \"\"\"\n",
    "    >>> encode([1,1,0,1,0])\n",
    "    [1, 1, 1, 0, 1, 0, 0, 0, 0, 1]\n",
    "    >>> encode([0,1,0,1,0])\n",
    "    [0, 0, 1, 1, 0, 1, 0, 0, 0, 1]\n",
    "    \"\"\"\n",
    "    l = max(map(len, generators))\n",
    "    bits_in = list(bits_in) \n",
    "    state = [0]*l\n",
    "    output = []\n",
    "    for b in bits_in:\n",
    "        state[1:] = state[:-1]   \n",
    "        state[0] = b            # Turns state d_{k-1},d_{k-2},d_{k-3} into d_{k},d_{k-1},d_{k-2} when new bit arrives \n",
    "        for g in generators:    # Use state to add u_k and v_k to the output\n",
    "            output.append(apply_generator(state, g))\n",
    "    return output"
   ]
  },
  {
   "cell_type": "code",
   "execution_count": 2,
   "metadata": {
    "collapsed": false
   },
   "outputs": [
    {
     "name": "stdout",
     "output_type": "stream",
     "text": [
      "[1, 1, 1, 0, 1, 0, 0, 0, 0, 1]\n",
      "[0, 0, 1, 1, 0, 1, 0, 0, 0, 1]\n"
     ]
    }
   ],
   "source": [
    "print encode([1,1,0,1,0])\n",
    "print encode([0,1,0,1,0])"
   ]
  },
  {
   "cell_type": "markdown",
   "metadata": {},
   "source": [
    "## Some Mathematical Preliminaries\n",
    "In this section, we will walk through some theory behind the Viterbi algorithm.  You will not need to derive any of it, but this will help you understand the algorithm in a big picture sense. \n",
    "\n",
    "We start by defining the random variables associated with the problem. We let $X_0,X_1,X_2\\ldots$ be the binary random variables which are input into the encoder. We further define the random variables $U_0,U_1,\\ldots$ and $V_0,V_1,\\ldots$ to the result of the upper and lower branch of the convolutional encoding of $X_0,X_1,\\ldots$. Lastly, we let $Y_0^u,Y_1^u,\\ldots$ be the output when $U_0,U_1,\\ldots$ are passed through the binary symmetric channel. We define $Y_0^v,Y_1^v,\\ldots$ analogously for the $V_i$'s"
   ]
  },
  {
   "cell_type": "markdown",
   "metadata": {},
   "source": [
    "### (A) We will first show that if the $X_i$'s are i.i.d. and equally probable 0 or 1, then the MAP rule\n",
    "\n",
    "$$\\arg \\max_{d_0,\\ldots,d_n} P\\bigl(X_0=d_0,\\ldots, X_n = d_n \\bigl{|} Y^u_0 =a_0, Y_0^v = b_0,Y^u_1 =a_1, Y_1^v = b_1,\\ldots,Y^u_n =a_n, Y_n^v = b_n\\bigr)$$\n",
    "\n",
    "### is equivalent to the Maximum Likelihood rule\n",
    "\n",
    "$$\\arg \\max_{d_0,\\ldots,d_n} P\\bigl(Y^u_0 =a_0, Y_0^v = b_0,Y^u_1 =a_1, Y_1^v = b_1,\\ldots,Y^u_n =a_n, Y_n^v = b_n\\big{|}X_0=d_0,\\ldots, X_n = d_n\\bigr)$$"
   ]
  },
  {
   "cell_type": "markdown",
   "metadata": {},
   "source": [
    "For ease of notation we'll let $\\tilde{Y} = (a_0, b_0, a_1, b_1,\\ldots, a_n, b_n)$ and $\\tilde{X} = (d_0,\\ldots, d_n)$.\n",
    "\n",
    "Now we can rewrite the MAP estimate using Baye's Rule as\n",
    "$$\\arg \\max_{d_0,\\ldots,d_n} P(\\tilde{X}|\\tilde{Y}) = \\arg \\max_{d_0,\\ldots,d_n} \\frac{P(\\tilde{Y}|\\tilde{X})P(\\tilde{X})}{P(\\tilde{Y})}$$\n",
    "\n",
    "Now since the bits are equiprobable and the denominator is constant with respect to the variables over which we are maximizing, this reduces to \n",
    "\n",
    "$$\\arg \\max_{d_0,\\ldots,d_n} P(\\tilde{Y} |\\tilde{X})$$\n",
    "\n",
    "which was to be shown"
   ]
  },
  {
   "cell_type": "markdown",
   "metadata": {},
   "source": [
    "### (B) We will now show that if $Z_1$, $Z_2$ and $Z_3$ are random variables such that $Z_1$ and $Z_3$ are independent conditional on $Z_2$ and $Z_2$ is a function of $Z_1$ (i.e. $Z_2 = g(Z_1)$) then \n",
    "\n",
    "$$P\\bigl(Z_3 = a \\big{|} Z_1 = b\\bigr) = P\\bigl(Z_3 = a \\big{|} Z_2 = g(b)\\bigr)$$\n",
    "\n",
    "We note that:\n",
    "\\begin{align*}\n",
    "P(Z_3 = a|Z_1=b) &= P(Z_3 = a|Z_1 = b, Z_2 = g(Z_1))\\\\\n",
    "&= P(Z_3 = a|Z_1 = b, Z_2 = g(b))\\\\\n",
    "&= P(Z_3 = a|Z_2 = g(b))\n",
    "\\end{align*}\n",
    "Where the last line uses the conditional independence property.We note that:\n",
    "\\begin{align*}\n",
    "P(Z_3 = a|Z_1=b) &= P(Z_3 = a|Z_1 = b, Z_2 = g(Z_1))\\\\\n",
    "&= P(Z_3 = a|Z_1 = b, Z_2 = g(b))\\\\\n",
    "&= P(Z_3 = a|Z_2 = g(b))\n",
    "\\end{align*}\n",
    "Where the last line uses the conditional independence property."
   ]
  },
  {
   "cell_type": "markdown",
   "metadata": {},
   "source": [
    "### (C) Next, using result (B) or otherwise, we would like to show that the MAP expression in (A) is equivalent to:\n",
    "\n",
    "$$\\arg \\max_{d_0,\\ldots,d_n} P\\bigl(Y^u_0 =a_0, Y_0^v = b_0,Y^u_1 =a_1, Y_1^v = b_1,\\ldots,Y^u_n =a_n, Y_n^v = b_n \\big{|} U_0=u_0, V_0 =v_0\\ldots, U_n = u_n, V_n=v_n\\bigr)$$\n",
    "\n",
    "### where $(u_0,v_0,\\ldots,u_n,v_n)$ is the output stream corresponding to the input stream.\n",
    "\n",
    "We let $Z_1 = (X_0,X_1,\\ldots, X_n)$, $Z_2 = g(Z_1)$, and $Z_3 = (Y^u_0, Y_0^v, Y^u_1, Y_1^v,\\ldots,Y^u_n, Y_n^v) $ where $g(\\cdot)$ is the function peformed by the block diagram above. The result then follows from (A)."
   ]
  },
  {
   "cell_type": "markdown",
   "metadata": {},
   "source": [
    "### Convince yourself that the maximization in result (C) can be solved using the Viterbi algorithm on the Markov chain above with an appropriate metric associated with each transition in the chain (branch metric). Try to think of an explicit expression for the branch metric. (You do not need to turn anything in, this is just for you to think about and it will help in the next part)"
   ]
  },
  {
   "cell_type": "markdown",
   "metadata": {},
   "source": [
    "## <font color=blue>Q2 The Viterbi Algorithm\n",
    "An implementation for a Viterbi decoder can be constructed as follows:\n",
    "1. A state $s$ has a *path metric* $p_s$ that gives the number of observed bit errors associated with being in $s$ at a given time.\n",
    "2. A state $s$ and input bit $b$ have *branch metric* $b_{s,b}$ that compares the observed channel output to the expected output given that you were in state $s$ and had input bit $b$. The branch metric is the number of different bits between the observed and expected output (Hamming weight).\n",
    "3. If input $b$ has transitions from state $s$ to $s'$, we can compute an updated path metric as $p_s + b_{s,b}$.\n",
    "4. Each state $s'$ will have two incoming transitions, we select the minimum  $p_s+b_{s,b}$ and call that our new path metric $p_s'$. This is called Add-Compare-Select.\n",
    "5. Traceback uses the decisions at each add-compare-select to reconstruct the input bit sequence.\n",
    "Starting at the ending state with the smallest path metric, traceback finds the predecessor based on the decision made by the add-compare-select unit.\n",
    "For example, if at the end, state zero has the lowest path metric, and the last add-compare-select for state zero chose the path_metric coming from state 2, we know that the last input bit was zero and the previous state was 2. This continues backwards until it reaches the beginning.\n",
    "\n",
    "[This link](http://home.netcom.com/~chip.f/viterbi/algrthms2.html) may be a helpful resource for understanding implementing the Viterbi algorithm for convolutional codes (note that what we are designing is called a hard decoder- soft decoders are a refinement that we won't worry about).\n",
    "\n",
    "We assume that we start and end in state 0.\n",
    "We end in state 0 by appending enough 0s to the end of our input to force us into 0.\n",
    "Our decoder relies on this by initializing all path metrics to a big number, except for 0 which we initialize to 0.\n",
    "### (A) In the space below, implement a viterbi decoder for such a convolutional encoder.  \n",
    "It should work for all generators, so it should also work on the 4 state encoder above.\n",
    "\n",
    "*Hint*: You may find the function ham_dist defined below helpful."
   ]
  },
  {
   "cell_type": "markdown",
   "metadata": {},
   "source": [
    "## <font color='red'> Solution"
   ]
  },
  {
   "cell_type": "code",
   "execution_count": 3,
   "metadata": {
    "collapsed": true
   },
   "outputs": [],
   "source": [
    "from numpy import inf, zeros, array\n",
    "import numpy as np\n",
    "\n",
    "# Returns the hamming distance of two binary vectors (must be of array type)\n",
    "def ham_dist(vec1, vec2):\n",
    "    return np.sum(np.logical_xor(vec1,vec2))"
   ]
  },
  {
   "cell_type": "code",
   "execution_count": 15,
   "metadata": {
    "collapsed": false
   },
   "outputs": [],
   "source": [
    "from numpy import inf, zeros, array\n",
    "import numpy as np\n",
    "\n",
    "# Simulate the binary symmetric channel which corrupts the original bitstream with probability p\n",
    "def bsc(bits_in, p=0.05):\n",
    "    out = []\n",
    "    for b in bits_in:\n",
    "        if np.random.uniform() > p:\n",
    "            out.append(b)\n",
    "        else:\n",
    "            out.append(1-b)\n",
    "    return array(out)\n",
    "\n",
    "def int2state(i, w):\n",
    "    return [i&(1<<k)>0 for k in range(w)]\n",
    "\n",
    "def viterbi(bits_in, generators=example_generators):\n",
    "    num_states = 1 << (max(map(len, generators))-1) # 2^num delays\n",
    "    states = [int2state(i, len(generators)-1) for i in range(num_states)]\n",
    "    # path metrics store the probability of being in a state\n",
    "    path_metrics = {}\n",
    "    tb = {}\n",
    "    path_metrics[0] = 0\n",
    "    tb[0]=[]\n",
    "    for i in range(1, num_states):\n",
    "        path_metrics[i] = 1.e10\n",
    "        tb[i] = []\n",
    "        \n",
    "    for i in range(len(bits_in)/len(generators)):\n",
    "        observation = bits_in[len(generators)*i:len(generators)*(i+1)]\n",
    "        new_path_metrics = {}\n",
    "        for i in range(num_states):\n",
    "            new_path_metrics[i] = [0,0]\n",
    "        for i in range(num_states*2):\n",
    "            new_path_metrics[i % num_states][i // num_states] = path_metrics[i // 2] + branch_metric(observation, i, generators)\n",
    "        #print map(lambda x: branch_metric(observation, x, generators), range(2*num_states))\n",
    "        for i in range(num_states):\n",
    "            if new_path_metrics[i][0] < new_path_metrics[i][1]:\n",
    "                tb[i].append(0)\n",
    "                path_metrics[i] = new_path_metrics[i][0]\n",
    "            else:\n",
    "                tb[i].append(1)\n",
    "                path_metrics[i] = new_path_metrics[i][1]\n",
    "                \n",
    "    finish = min(path_metrics, key=path_metrics.get)\n",
    "    return traceback(tb,finish)[:len(bits_in)//len(generators)] # remove trailing zeros\n",
    "\n",
    "def branch_metric(observation, state, generators=example_generators):\n",
    "    s = int2state(state, len(generators[0]))\n",
    "    expected = map(lambda x: apply_generator(s, x), generators)\n",
    "    return sum([i!=j for i,j in zip(expected, observation)])\n",
    "\n",
    "def traceback(tb,finish):\n",
    "    state = finish\n",
    "    output = []\n",
    "    for i in range(len(tb[0])-1, -1, -1):\n",
    "        output.append(state % 2)\n",
    "        state = (state // 2) + len(tb) * tb[state][i] // 2\n",
    "    return output[::-1]"
   ]
  },
  {
   "cell_type": "markdown",
   "metadata": {},
   "source": [
    "## Q2\n",
    "After you have your code working for the 4-state example code, run the following code to make sure it works on the more complicated wifi codes."
   ]
  },
  {
   "cell_type": "code",
   "execution_count": 18,
   "metadata": {
    "collapsed": false
   },
   "outputs": [
    {
     "name": "stdout",
     "output_type": "stream",
     "text": [
      "(1, 0, 1, 0, 1, 0, 1, 0)\n",
      "[1, 1, 0, 1, 0, 0, 1, 0, 0, 0, 0, 0, 1, 1, 0, 0]\n",
      "[1, 1, 0, 1, 0, 0, 1, 0, 0, 0, 0, 1, 1, 1, 0, 0]\n",
      "[1, 0, 1, 0, 1, 0, 1, 0]\n"
     ]
    }
   ],
   "source": [
    "# Test your code here\n",
    "wifi_generators = [ [1,0,1,1,0,1,1], [1,1,1,1,0,0,1] ]\n",
    "msg = (1,0,1,0,1,0,1,0)\n",
    "a = encode( msg, generators=wifi_generators)\n",
    "b=[i for i in bsc(a,p=0.05)]\n",
    "c=viterbi(b, generators=wifi_generators)\n",
    "print msg\n",
    "print a\n",
    "print b\n",
    "print c"
   ]
  },
  {
   "cell_type": "markdown",
   "metadata": {},
   "source": [
    "### (B) The following code block defines two functions, one which converts strings to their binary ASCII representations, and the other that converts from bits to ASCII. Use your implementation of the Viterbi Algorithm to decode the message in 'secret.txt' (which has been encoded using the convolutional code described in this lab)"
   ]
  },
  {
   "cell_type": "code",
   "execution_count": 19,
   "metadata": {
    "collapsed": false
   },
   "outputs": [],
   "source": [
    "#thanks to John Gaines Jr. and Simon Streicher from http://stackoverflow.com/questions/10237926/convert-string-to-list-of-bits-and-viceversa\n",
    "def tobits(s):\n",
    "    result = []\n",
    "    for c in s:\n",
    "        bits = bin(ord(c))[2:]\n",
    "        bits = '00000000'[len(bits):] + bits\n",
    "        result.extend([int(b) for b in bits])\n",
    "    return result\n",
    "\n",
    "def frombits(bits):\n",
    "    chars = []\n",
    "    for b in range(len(bits) / 8):\n",
    "        byte = bits[b*8:(b+1)*8]\n",
    "        chars.append(chr(int(''.join([str(bit) for bit in byte]), 2)))\n",
    "    return ''.join(chars)"
   ]
  },
  {
   "cell_type": "code",
   "execution_count": 21,
   "metadata": {
    "collapsed": false,
    "scrolled": false
   },
   "outputs": [
    {
     "name": "stdout",
     "output_type": "stream",
     "text": [
      "                                  _______                        \n",
      "                           _,,ad8888888888bba,_\n",
      "                        ,ad88888I888888888888888ba,\n",
      "                      ,88888888I88888888888888888888a,\n",
      "                    ,d888888888I8888888888888888888888b,\n",
      "                   d88888PP\"\"\"\" \"\"YY88888888888888888888b,\n",
      "                 ,d88\"'__,,--------,,,,.;ZZZY8888888888888,\n",
      "                ,8IIl'\"                ;;l\"ZZZIII8888888888,\n",
      "               ,I88l;'                  ;lZZZZZ888III8888888,\n",
      "             ,II88Zl;.                  ;llZZZZZ888888I888888,\n",
      "            ,II888Zl;.                .;;;;;lllZZZ888888I8888b\n",
      "           ,II8888Z;;                 `;;;;;''llZZ8888888I8888,\n",
      "           II88888Z;'                        .;lZZZ8888888I888b\n",
      "           II88888Z; _,aaa,      .,aaaaa,__.l;llZZZ88888888I888\n",
      "           II88888IZZZZZZZZZ,  .ZZZZZZZZZZZZZZ;llZZ88888888I888,\n",
      "           II88888IZZ<'(@@>Z|  |ZZZ<'(@@>ZZZZ;;llZZ888888888I88I\n",
      "          ,II88888;   `\"\"\" ;|  |ZZ; `\"\"\"     ;;llZ8888888888I888\n",
      "          II888888l            `;;          .;llZZ8888888888I888,\n",
      "         ,II888888Z;           ;;;        .;;llZZZ8888888888I888I\n",
      "         III888888Zl;    ..,   `;;       ,;;lllZZZ88888888888I888\n",
      "         II88888888Z;;...;(_    _)      ,;;;llZZZZ88888888888I888,\n",
      "         II88888888Zl;;;;;' `--'Z;.   .,;;;;llZZZZ88888888888I888b\n",
      "         ]I888888888Z;;;;'   \";llllll;..;;;lllZZZZ88888888888I8888,\n",
      "         II888888888Zl.;;\"Y88bd888P\";;,..;lllZZZZZ88888888888I8888I\n",
      "         II8888888888Zl;.; `\"PPP\";;;,..;lllZZZZZZZ88888888888I88888\n",
      "         II888888888888Zl;;. `;;;l;;;;lllZZZZZZZZW88888888888I88888\n",
      "         `II8888888888888Zl;.    ,;;lllZZZZZZZZWMZ88888888888I88888\n",
      "          II8888888888888888ZbaalllZZZZZZZZZWWMZZZ8888888888I888888,\n",
      "          `II88888888888888888b\"WWZZZZZWWWMMZZZZZZI888888888I888888b\n",
      "           `II88888888888888888;ZZMMMMMMZZZZZZZZllI888888888I8888888\n",
      "            `II8888888888888888 `;lZZZZZZZZZZZlllll888888888I8888888,        \n",
      "             II8888888888888888, `;lllZZZZllllll;;.Y88888888I8888888b,       \n",
      "            ,II8888888888888888b   .;;lllllll;;;.;..88888888I88888888b,      \n",
      "            II888888888888888PZI;.  .`;;;.;;;..; ...88888888I8888888888,     \n",
      "            II888888888888PZ;;';;.   ;. .;.  .;. .. Y8888888I88888888888b,   \n",
      "           ,II888888888PZ;;'                        `8888888I8888888888888b, \n",
      "           II888888888'                              888888I8888888888888888b\n",
      "          ,II888888888                              ,888888I88888888888888888\n",
      "         ,d88888888888                              d888888I8888888888ZZZZZZZ\n",
      "      ,ad888888888888I                              8888888I8888ZZZZZZZZZZZZZ\n",
      "    ,d888888888888888'                              888888IZZZZZZZZZZZZZZZZZZ\n",
      "  ,d888888888888P'8P'                               Y888ZZZZZZZZZZZZZZZZZZZZZ\n",
      " ,8888888888888,  \"                                 ,ZZZZZZZZZZZZZZZZZZZZZZZZ\n",
      "d888888888888888,                                ,ZZZZZZZZZZZZZZZZZZZZZZZZZZZ\n",
      "888888888888888888a,      _                    ,ZZZZZZZZZZZZZZZZZZZZ888888888\n",
      "888888888888888888888ba,_d'                  ,ZZZZZZZZZZZZZZZZZ88888888888888\n",
      "8888888888888888888888888888bbbaaa,,,______,ZZZZZZZZZZZZZZZ888888888888888888\n",
      "88888888888888888888888888888888888888888ZZZZZZZZZZZZZZZ888888888888888888888\n",
      "8888888888888888888888888888888888888888ZZZZZZZZZZZZZZ88888888888888888888888\n",
      "888888888888888888888888888888888888888ZZZZZZZZZZZZZZ888888888888888888888888\n",
      "8888888888888888888888888888888888888ZZZZZZZZZZZZZZ88888888888888888888888888\n",
      "88888888888888888888888888888888888ZZZZZZZZZZZZZZ8888888888888888888888888888\n",
      "8888888888888888888888888888888888ZZZZZZZZZZZZZZ88888888888888888888888888888\n",
      "88888888888888888888888888888888ZZZZZZZZZZZZZZ8888888888888888888888888888888\n",
      "8888888888888888888888888888888ZZZZZZZZZZZZZZ88888888888888888888888888888888\n"
     ]
    }
   ],
   "source": [
    "fin = open('secret.txt')\n",
    "secret_bits = [int(i) for i in fin.read()[1:-1].split(', ')]\n",
    "secret_bits = np.array(secret_bits)\n",
    "fin.close()\n",
    "print frombits(viterbi(secret_bits,generators=wifi_generators))\n"
   ]
  },
  {
   "cell_type": "markdown",
   "metadata": {},
   "source": [
    "## <font color=blue>Q3.  Empirical Bit Error Rate of Convolutional Coding\n",
    "### (A) So how does the convolutional code compare with simple repetition coding? We are going to plot the bit error rate. \n",
    "\n",
    "$$ BER =\\frac{\\textrm{Number of incorrectly decoded bits}}{\\textrm{Total number of bits}}$$ \n",
    "\n",
    "### for some different channel parameters. For $0.01\\le p \\le 0.1$ on the x-axis, plot the bit error rate on a log scale on the y-axis. Run *100 trials* for randomly generated 512-bit long inputs at each channel parameter (this might take a little while to run). \n"
   ]
  },
  {
   "cell_type": "markdown",
   "metadata": {},
   "source": [
    "## <font color='red'> Solution"
   ]
  },
  {
   "cell_type": "code",
   "execution_count": 58,
   "metadata": {
    "collapsed": false
   },
   "outputs": [
    {
     "data": {
      "image/png": "[encoded data removed]",
      "text/plain": [
       "<matplotlib.figure.Figure at 0x10bd79510>"
      ]
     },
     "metadata": {},
     "output_type": "display_data"
    }
   ],
   "source": [
    "ps = np.linspace(0.01, 0.1, 10)\n",
    "def ber_experiment(p, n_trials = 100, n_bits = 512, generators=example_generators):\n",
    "    errors = 0\n",
    "    for i in range(n_trials):\n",
    "        bits_in = np.random.randint(0,1, 512)\n",
    "        received = bsc(encode(bits_in, generators=generators), p=p)\n",
    "        decoded = viterbi(received)\n",
    "        errors += sum([bits_in[i]!=decoded[i] for i in range(len(bits_in))])\n",
    "    return float(errors) / (n_bits * n_trials)\n",
    "error_prob = [ber_experiment(p, generators=example_generators) for p in ps]\n",
    "\n",
    "figure(figsize(9,6))\n",
    "semilogy(ps, error_prob,'o')\n",
    "\n",
    "plt.title('Bit Error Rate vs. Crossover Probability of BSC')\n",
    "plt.xlabel('Crossover Probability (p)')\n",
    "plt.ylabel('Estimated BER')\n",
    "\n",
    "plt.minorticks_on()\n",
    "plt.grid(b=True,which = 'both',color = 'b')"
   ]
  },
  {
   "cell_type": "markdown",
   "metadata": {},
   "source": [
    "### (B) Assume we are communicating over a binary symmetric channel with $p =0.05$. Using our repetition encoder, what is the smallest number of repetitions $r$ we would need in order to achieve a superior BER to our convolutional code? Suppose the coded symbols are sent over a 10MHz wireless channel at the rate of $10\\times10^6$ symbols/sec. Compare the data rate, in bits per second (bps), of the convolutional code and the repetition code for this value of $r$. Now suppose, $p=0.02$. What is the minimum $r$ we need to outperform convolutional encoding? How does the data rate compare now?"
   ]
  },
  {
   "cell_type": "markdown",
   "metadata": {},
   "source": [
    "## <font color='red'> Solution\n",
    "Based on our plots from 1(B) and 4(A) we observe that we'll need at least 3 repetitions in order to achieve a lower BER than we get from the convolutional code over a BSC with $p=0.05$. Since we are sending 2 bits for every one bit when we perform convolutional coding and 3 bits with repition coding, the convolutional code is a 50% improvement.\n",
    "\n",
    "We'll need at least 5 repetitions for in the case where $p=0.02$ based on the plots. The convolutional code is a 150% speedup!"
   ]
  }
 ],
 "metadata": {
  "kernelspec": {
   "display_name": "Python [Root]",
   "language": "python",
   "name": "Python [Root]"
  },
  "language_info": {
   "codemirror_mode": {
    "name": "ipython",
    "version": 2
   },
   "file_extension": ".py",
   "mimetype": "text/x-python",
   "name": "python",
   "nbconvert_exporter": "python",
   "pygments_lexer": "ipython2",
   "version": "2.7.12"
  }
 },
 "nbformat": 4,
 "nbformat_minor": 0
}
