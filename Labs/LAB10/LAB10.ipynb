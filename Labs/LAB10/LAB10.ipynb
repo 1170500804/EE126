{
 "cells": [
  {
   "cell_type": "markdown",
   "metadata": {},
   "source": [
    "# Lab10 - Kalman Filter\n",
    "\n",
    "\n",
    "#### Authors:\n",
    "v1.0 (2017 Spring) Kamil Nar, Kabir Chandrasekher, David Wang, Tavor Baharav, Sinho Chewi, Kannan Ramchandran\n",
    "\n",
    "\n",
    "## Introduction\n",
    "\n",
    "When the dynamics of a system can be described with a linear model, and the unknown factors enter into the system as additive Gaussian noise, the minimum-mean-square-error (MMSE) estimate of the state of the system can be computed with a Kalman filter very efficiently. Kalman filters are widely used in many applications, including object tracking, motion planning, navigation and computer vision.\n",
    "\n",
    "<img src=\"https://plus.maths.org/content/sites/plus.maths.org/files/articles/2012/filters/trajectory.jpg\" alt=\"auction diagram\" style=\"width:450px;\">"
   ]
  },
  {
   "cell_type": "markdown",
   "metadata": {},
   "source": [
    "## 1) Scalar Kalman Filter\n",
    "In this section, we will implement a scalar Kalman filter for the water level in a tank.\n",
    "\n",
    "Consider a water tank as shown in the figure.\n",
    "\n",
    "<img src=\"water_tank.png\" style=\"width:240px;\">\n",
    "\n",
    "State $X(n)$ denotes the water level at time $n$, and $u$ denotes the amount of water flowing into the tank, which we assume to be a constant. Between time $n$ and $n+1$, certain portion of the water is lost through the hole at the bottom of the tank. As a result, we model this system as\n",
    "\n",
    "$$ X(n+1) = a X(n) + b u + V(n), $$\n",
    "\n",
    "where $a \\in (0,1)$ and $b \\in (0, \\infty)$ are some constants, and $V(n)$ is a Gaussian random variable with mean 0 and variance $\\sigma_V^2$ and independent of $\\{X(j)\\}_{j=0}^n$ and $\\{V(j)\\}_{j=0}^{n-1}$.\n",
    "\n",
    "We monitor the water level with a sensor which gives noisy measurements:\n",
    "\n",
    "$$ Y(n) = X(n) + W(n),$$\n",
    "\n",
    "where $W(n)$ is a Gaussian random variable with mean 0 and variance $\\sigma_W^2$ and independent of $\\{X(j)\\}_{j=0}^n$, $\\{V(j)\\}_{j=0}^n$ and $\\{W(j)\\}_{j=0}^{n-1}$. "
   ]
  },
  {
   "cell_type": "code",
   "execution_count": null,
   "metadata": {
    "collapsed": true
   },
   "outputs": [],
   "source": [
    "from __future__ import division\n",
    "import numpy as np\n",
    "import matplotlib.pyplot as plt\n",
    "%matplotlib inline"
   ]
  },
  {
   "cell_type": "markdown",
   "metadata": {},
   "source": [
    "### 1 (a) Predict and Update functions\n",
    "Let $\\hat{\\ X}(n+1 | n)$ and $\\hat{\\ X}(n|n)$ denote the MMSE estimates of $X(n+1)$ and $X(n)$, respectively, given $\\{Y(j)\\}_{j=0}^n$; and let $\\sigma^2_{n+1|n}$ and $\\sigma^2_{n|n}$ denote their variances. (Note that $\\hat{\\ X}(n|n)$, $\\sigma^2_{n|n}$ and $\\sigma^2_{n+1|n}$ correspond to $\\hat{\\ X}(n)$, $\\Sigma_n$ and $S_{n+1}$, respectively, given in Chapter 7.6 of Walrand's textbook.)\n",
    "\n",
    "Assuming $b = 1$, write a function named <span style=\"color:blue; font-family:Courier\">predict</span> which takes the estimate at time $n$, $\\hat{\\ X}(n|n), \\sigma^2_{n|n}, \\sigma^2_V, a$ and $u$ as input, and gives $\\hat{\\ X}(n+1|n)$ and $\\sigma^2_{n+1|n}$ as output."
   ]
  },
  {
   "cell_type": "code",
   "execution_count": null,
   "metadata": {
    "collapsed": false
   },
   "outputs": [],
   "source": [
    "def predict(X, var_n, var_v, a, u):\n",
    "    #your function here\n"
   ]
  },
  {
   "cell_type": "markdown",
   "metadata": {},
   "source": [
    "Now write another function named <span style=\"color:blue; font-family:Courier\">update</span> which takes $\\hat{\\ X}(n+1|n), Y(n+1), \\sigma_{n+1|n}^2$ and $\\sigma_W^2$ as input, and gives $\\hat{\\ X}(n+1|n+1)$ and $\\sigma^2_{n+1|n+1}$ as output."
   ]
  },
  {
   "cell_type": "code",
   "execution_count": null,
   "metadata": {
    "collapsed": false
   },
   "outputs": [],
   "source": [
    "def update(X, Y, var_n, var_w):\n",
    "    #your function here\n",
    "    "
   ]
  },
  {
   "cell_type": "markdown",
   "metadata": {},
   "source": [
    "### 1 (b) Low-noise Measurements\n",
    "\n",
    "First, let's assume $a=0.9$, $u=2$, $X(0) = 11.5$, $\\sigma_V^2 = 3$, $\\sigma_W^2 = 0.4$ and generate some measurements."
   ]
  },
  {
   "cell_type": "code",
   "execution_count": null,
   "metadata": {
    "collapsed": false
   },
   "outputs": [],
   "source": [
    "a = 0.9\n",
    "u = 2.0\n",
    "x_n = 11.5\n",
    "sigma_v = np.sqrt(3.0)\n",
    "sigma_w = np.sqrt(0.4)\n",
    "x_true = np.zeros(30)\n",
    "y = np.zeros(30)\n",
    "t = range(30)\n",
    "for n in t:\n",
    "    x_n = a*x_n + u + np.random.normal(0.0,sigma_v,1)\n",
    "    x_true[n] = x_n\n",
    "    y[n] = x_n + np.random.normal(0.0,sigma_w,1)\n",
    "plt.plot(t,x_true,'g',label='true water level')\n",
    "plt.plot(t,y,'y*',label='noisy measurement')\n",
    "plt.legend(loc=9, bbox_to_anchor=(0.5, -0.1))"
   ]
  },
  {
   "cell_type": "markdown",
   "metadata": {
    "collapsed": true
   },
   "source": [
    "Now assume $\\hat{\\ X}(0|0) \\sim \\mathcal N(10, 2)$ and find the estimates $\\hat{\\ X}(n|n)$ and their standard deviation $\\sigma_{n|n}$ for $n \\in \\{1,2, \\dots , 30\\}$ by using the <span style=\"color:blue; font-family:Courier\">predict</span> and <span style=\"color:blue; font-family:Courier\">update</span> functions you wrote. Save them in the arrays <span style=\"font-family:Courier\">x_est</span> and <span style=\"font-family:Courier\">sigma_est</span> of length 30."
   ]
  },
  {
   "cell_type": "code",
   "execution_count": null,
   "metadata": {
    "collapsed": false
   },
   "outputs": [],
   "source": [
    "x_est = np.zeros(30)\n",
    "sigma_est = np.zeros(30)\n",
    "for n in range(30):\n",
    "    #your code here\n",
    "    #keep x_est[n] and sigma_est[n]\n",
    "    #for all n from 0 to 29"
   ]
  },
  {
   "cell_type": "markdown",
   "metadata": {},
   "source": [
    "Let's compare the true values of the states, measurements, and the estimates given by the Kalman filter."
   ]
  },
  {
   "cell_type": "code",
   "execution_count": null,
   "metadata": {
    "collapsed": false
   },
   "outputs": [],
   "source": [
    "t = range(30)\n",
    "plt.plot(t,x_true,'g',label='true level')\n",
    "plt.plot(t,y,'y*',label='noisy measurement')\n",
    "plt.plot(t,x_est,'b',label='estimate')\n",
    "plt.plot(t,x_est+sigma_est,'r--',t,x_est-sigma_est,'r--')\n",
    "plt.legend(loc=9, bbox_to_anchor=(0.5, -0.1))"
   ]
  },
  {
   "cell_type": "markdown",
   "metadata": {},
   "source": [
    "Note that the width of the region between the red dashed lines indicate how good your estimate is: the narrower, the better."
   ]
  },
  {
   "cell_type": "markdown",
   "metadata": {},
   "source": [
    "### 1 (c) Large-noise Measurements\n",
    "\n",
    "Now let's assume $a = 0.3$, $u = 14$, $X(0) = 9.0$, $\\sigma_V^2 = 0.5$, $\\sigma_W^2 = 3$ and generate some measurements."
   ]
  },
  {
   "cell_type": "code",
   "execution_count": null,
   "metadata": {
    "collapsed": false
   },
   "outputs": [],
   "source": [
    "a = 0.3\n",
    "u = 14.0\n",
    "x_n = 9.0\n",
    "sigma_v = np.sqrt(0.5)\n",
    "sigma_w = np.sqrt(3.0)\n",
    "x_true = np.zeros(30)\n",
    "y = np.zeros(30)\n",
    "t = range(30)\n",
    "for n in t:\n",
    "    x_n = a*x_n + u + np.random.normal(0.0,sigma_v,1)\n",
    "    x_true[n] = x_n\n",
    "    y[n] = x_n + np.random.normal(0.0,sigma_w,1)\n",
    "plt.plot(t,x_true,'g',label='true water level')\n",
    "plt.plot(t,y,'y*',label='noisy measurement')\n",
    "plt.legend(loc=9, bbox_to_anchor=(0.5, -0.1))"
   ]
  },
  {
   "cell_type": "markdown",
   "metadata": {},
   "source": [
    "As you did in part (b), assume $\\hat{\\ X}(0|0) \\sim \\mathcal N(10, 2)$ and find the estimates $\\hat{\\ X}(n|n)$ and their standard deviation $\\sigma_{n|n}$ for $n \\in \\{1,2, \\dots , 30\\}$ by using the <span style=\"color:blue; font-family:Courier\">predict</span> and <span style=\"color:blue; font-family:Courier\">update</span> functions you wrote. Save them in the arrays <span style=\"font-family:Courier\">x_est</span> and <span style=\"font-family:Courier\">sigma_est</span> of length 30."
   ]
  },
  {
   "cell_type": "code",
   "execution_count": null,
   "metadata": {
    "collapsed": true
   },
   "outputs": [],
   "source": [
    "x_est = np.zeros(30)\n",
    "sigma_est = np.zeros(30)\n",
    "for n in range(30):\n",
    "    #your code here\n",
    "    #keep x_est[n] and sigma_est[n]\n",
    "    #for all n from 0 to 29"
   ]
  },
  {
   "cell_type": "markdown",
   "metadata": {},
   "source": [
    "Plot the true values of the states, measurements, and the state estimates given by the Kalman filter."
   ]
  },
  {
   "cell_type": "code",
   "execution_count": null,
   "metadata": {
    "collapsed": true
   },
   "outputs": [],
   "source": [
    "t = range(30)\n",
    "plt.plot(t,x_true,'g',label='true level')\n",
    "plt.plot(t,y,'y*',label='noisy measurement')\n",
    "plt.plot(t,x_est,'b',label='estimate')\n",
    "plt.plot(t,x_est+sigma_est,'r--',t,x_est-sigma_est,'r--')\n",
    "plt.legend(loc=9, bbox_to_anchor=(0.5, -0.1))"
   ]
  },
  {
   "cell_type": "markdown",
   "metadata": {},
   "source": [
    "While updating the estimate, the effect of each measurement on the state estimate is different in part (b) and part (c). Explain this difference quantitatively."
   ]
  },
  {
   "cell_type": "markdown",
   "metadata": {},
   "source": [
    "<b>  -->Your explanation here<-- </b>"
   ]
  },
  {
   "cell_type": "markdown",
   "metadata": {},
   "source": [
    "## 2) Tracking an Object\n",
    "\n",
    "In this section, we will implement a two-dimensional Kalman filter to track an object.\n",
    "\n",
    "Let $X_1(n)$ and $X_2(n)$ denote the position and the velocity of an object at time $n$. We assume that the position is given in meters, the velocity is in meters-per-second, and a new measurement is taken every second. Therefore, we model the dynamics of the object as\n",
    "\n",
    "$$ \\underbrace{\\left[ \\begin{array}{c} X_1(n+1) \\\\ X_2(n+1) \\end{array} \\right]}_{X(n+1)} = \\underbrace{\\left[ \\begin{array}{l l} 1 & 1 \\\\ 0 & 1 \\end{array} \\right]}_{A} \\underbrace{\\left[ \\begin{array}{c} X_1(n) \\\\ X_2(n) \\end{array} \\right]}_{X(n)} + \\underbrace{\\left[ \\begin{array}{c} V_1(n) \\\\ V_2(n) \\end{array} \\right]}_{V(n)} $$\n",
    "\n",
    "where $V(n) \\sim \\mathcal N \\left(0, \\Sigma_V \\right)$ and independent of $\\{X(j)\\}_{j=0}^n$ and $\\{V(j)\\}_{j=0}^{n-1}$.\n",
    "\n",
    "At each time step, we obtain a noisy measurement of the position and the velocity of the object:\n",
    "\n",
    "$$ Y(n) = \\left[ \\begin{array}{c} Y_1(n) \\\\ Y_2(n) \\end{array}\\right] =  \\underbrace{\\left[ \\begin{array}{c c} 1 & 0 \\\\ 0 & 1 \\end{array} \\right]}_{C} X(n)  + \\underbrace{\\left[ \\begin{array}{c} W_1(n) \\\\ W_2(n) \\end{array} \\right]}_{W(n)} $$\n",
    "\n",
    "where $W(n) \\sim \\mathcal N \\left(0, \\Sigma_W \\right)$ and independent of $\\{X(j)\\}_{j=0}^n$, $\\{V(j)\\}_{j=0}^{n}$ and $\\{W(j)\\}_{j=0}^{n-1}$."
   ]
  },
  {
   "cell_type": "markdown",
   "metadata": {},
   "source": [
    "### 2 (a) Standard Kalman Filter\n",
    "Let $\\hat{\\ X}(n|n)$ and $\\hat{\\ X}(n+1|n)$ denote the MMSE estimates of $X(n)$ and $X(n+1)$, respectively, given $\\{Y(j)\\}_{j=0}^n$; and let $\\Sigma_{n|n}$ and $\\Sigma_{n+1|n}$ denote their covariance matrices.\n",
    "\n",
    "(Note that $\\hat{\\ X}(n|n)$, $\\Sigma_{n|n}$ and $\\Sigma_{n+1|n}$ correspond to $\\hat{\\ X}(n)$, $\\Sigma_n$ and $S_{n+1}$, respectively, given in Chapter 7.6 of Walrand's textbook.)\n",
    "\n",
    "Then the update and predict steps of the Kalman filter for the system\n",
    "$$ X(n+1) = A X(n) + V(n) $$\n",
    "$$ Y(n) = C X(n) + W(n)$$\n",
    "are described as:\n",
    "<ul>\n",
    "<li> Predict:\n",
    "$$ \\hat{\\ X}(n+1|n) = A \\hat{\\ X}(n|n)$$\n",
    "$$ \\Sigma_{n+1|n} = A \\Sigma_{n|n} A^T + \\Sigma_V $$\n",
    "</li>\n",
    "<li> Update:\n",
    "$$ K_{n+1} = \\Sigma_{n+1|n}C^T( C \\Sigma_{n+1|n} C^T + \\Sigma_W )^{-1}$$\n",
    "$$ \\hat{\\ X}(n+1|n+1) = \\hat{\\ X}(n+1|n) + K_{n+1}( Y(n+1) - C \\hat{\\ X}(n+1|n) )$$\n",
    "$$ \\Sigma_{n+1|n+1} = (I - K_{n+1}C)\\Sigma_{n+1|n} $$\n",
    "</li> \n",
    "</ul>\n",
    "\n",
    "Now write a function named <span style=\"color:blue; font-family:Courier\">predict2</span> which takes $A$, $\\Sigma_V$, $\\hat{\\ X}(n|n)$, $\\Sigma_{n|n}$ as input and gives $\\hat{\\ X}(n+1|n)$, $\\Sigma_{n+1|n}$ as output."
   ]
  },
  {
   "cell_type": "code",
   "execution_count": null,
   "metadata": {
    "collapsed": false
   },
   "outputs": [],
   "source": [
    "def predict2(A, Sigma_v, X, Sigma_n):\n",
    "    #your function here"
   ]
  },
  {
   "cell_type": "markdown",
   "metadata": {},
   "source": [
    "And write a function named <span style=\"color:blue; font-family:Courier\">update2</span> which takes $C, \\Sigma_W, \\hat{\\ X}(n+1|n), Y(n+1), \\Sigma_{n+1|n}$ as input and gives $\\hat{\\ X}(n+1|n+1)$, $\\Sigma_{n+1|n+1}$ as output."
   ]
  },
  {
   "cell_type": "code",
   "execution_count": null,
   "metadata": {
    "collapsed": true
   },
   "outputs": [],
   "source": [
    "def update2(C, Sigma_w, X, Y, Sigma_n):\n",
    "    #your function here"
   ]
  },
  {
   "cell_type": "markdown",
   "metadata": {},
   "source": [
    "### 2 (b) Testing the 2-dimensional Kalman Filter\n",
    "Let's generate a trajectory for the object with $X(0) = \\left[ \\begin{array}{c}10 \\\\ 4 \\end{array}\\right]$, $\\color{red}{\\Sigma_V =\\left[ \\begin{array}{c c}4& 0 \\\\ 0 & 8 \\end{array}\\right]}$ and  $\\color{red}{\\Sigma_W =\\left[ \\begin{array}{c c}4& 0 \\\\ 0 & 8 \\end{array}\\right]}$."
   ]
  },
  {
   "cell_type": "code",
   "execution_count": null,
   "metadata": {
    "collapsed": false
   },
   "outputs": [],
   "source": [
    "A = np.array([[1,1],[0,1]])\n",
    "C = np.array([[1,0],[0,1]])\n",
    "Sigma_v = np.array([[4,0],[0,8]])\n",
    "Sigma_w = np.array([[4,0],[0,8]])\n",
    "mean_vec = [0,0]\n",
    "x_true = np.zeros((2,30))\n",
    "y = np.zeros((2,30))\n",
    "x = np.array([10,4])\n",
    "t = range(30)\n",
    "for n in t:\n",
    "    x = A.dot(x) + np.random.multivariate_normal(mean_vec,Sigma_v)\n",
    "    x_true[:,n] = x\n",
    "    y[:,n] = x + np.random.multivariate_normal(mean_vec,Sigma_w)\n",
    "\n",
    "plt.plot(x_true[0,:],x_true[1,:],label='true state')\n",
    "plt.plot(y[0,:],y[1,:],'y*',label='noisy measurement')\n",
    "plt.xlabel('position')\n",
    "plt.ylabel('velocity')\n",
    "plt.legend(loc=9, bbox_to_anchor=(0.5, -0.15))"
   ]
  },
  {
   "cell_type": "markdown",
   "metadata": {},
   "source": [
    "Note that as long as the velocity of the object stayed positive, the object moved in the positive direction.\n",
    "\n",
    "Now find the estimates $\\{\\hat{\\ X}(n|n)\\}_{n=1}^{30}$ using your functions <span style=\"color:blue; font-family:Courier\">predict2</span> and <span style=\"color:blue; font-family:Courier\">update2</span> with the observations $\\{Y(n)\\}_{n=1}^{30}$ and\n",
    "\n",
    "$$A = \\left[ \\begin{array}{c c}1& 1 \\\\ 0 & 1 \\end{array}\\right] , \\ \n",
    "C = \\left[ \\begin{array}{c c}1& 0 \\\\ 0 & 1 \\end{array}\\right], \\ \n",
    "\\hat{\\ X}(0|0) \\sim \\mathcal N \\left(  \\left[ \\begin{array}{c}11 \\\\ 4 \\end{array}\\right], \n",
    " \\left[ \\begin{array}{c c}3& 0 \\\\ 0 & 2 \\end{array}\\right] \\right), \\\n",
    "\\color{red}{\\Sigma_V =\\left[ \\begin{array}{c c}4& 0 \\\\ 0 & 8 \\end{array}\\right]}, \\ \\color{red}{\\Sigma_W =\\left[ \\begin{array}{c c}4& 0 \\\\ 0 & 8 \\end{array}\\right]}.$$"
   ]
  },
  {
   "cell_type": "code",
   "execution_count": null,
   "metadata": {
    "collapsed": true
   },
   "outputs": [],
   "source": [
    "#your code here"
   ]
  },
  {
   "cell_type": "markdown",
   "metadata": {},
   "source": [
    "For comparison, plot the position versus velocity graph of the estimate along with that of the true state."
   ]
  },
  {
   "cell_type": "code",
   "execution_count": null,
   "metadata": {
    "collapsed": true
   },
   "outputs": [],
   "source": [
    "#your plot here"
   ]
  },
  {
   "cell_type": "markdown",
   "metadata": {},
   "source": [
    "### 2 (c) Effect of Velocity Measurements\n",
    "\n",
    "How would the estimate change if we measured only the positions? \n",
    "\n",
    "To analyze this case, assume that\n",
    "\n",
    "$$ C = [1 \\ \\ \\ 0], \\ \\ \\ \\color{red}{\\Sigma_W = [4]}, $$\n",
    "\n",
    "and you only have access to $\\{Y_1(n)\\}_{n=1}^{30}$, which are the measurements of the position. Again using your <span style=\"color:blue; font-family:Courier\">predict2</span> and <span style=\"color:blue; font-family:Courier\">update2</span> functions with\n",
    "\n",
    "$$A = \\left[ \\begin{array}{c c}1& 1 \\\\ 0 & 1 \\end{array}\\right] , \\ \n",
    "\\hat{\\ X}(0|0) \\sim \\mathcal N \\left(  \\left[ \\begin{array}{c}11 \\\\ 4 \\end{array}\\right], \n",
    " \\left[ \\begin{array}{c c}3& 0 \\\\ 0 & 2 \\end{array}\\right] \\right), \\ \n",
    "\\color{red}{\\Sigma_v =\\left[ \\begin{array}{c c}4& 0 \\\\ 0 & 8 \\end{array}\\right]},$$\n",
    "\n",
    "find the estimates $\\{\\hat{\\ X}(n|n)\\}_{n=1}^{30}$. \n",
    "\n",
    "Note that $\\mathbf C$ <b> and </b> $\\mathbf{\\Sigma_W}$ <b> has changed, and you only have access to the position measurements:</b> $\\mathbf{ \\{Y_1(n)\\}_{n=1}^{30} }$."
   ]
  },
  {
   "cell_type": "code",
   "execution_count": null,
   "metadata": {
    "collapsed": true
   },
   "outputs": [],
   "source": [
    "#your code here"
   ]
  },
  {
   "cell_type": "markdown",
   "metadata": {},
   "source": [
    "Plot the position estimates $\\{\\hat{\\ X}_1(n|n)\\}_{n=1}^{30}$ given by part 2(b) and part 2(c) on the same plot, along with the true values <span style=\"font-family:Courier\">x_true</span>."
   ]
  },
  {
   "cell_type": "code",
   "execution_count": null,
   "metadata": {
    "collapsed": true
   },
   "outputs": [],
   "source": [
    "#your code here\n",
    "#HORIZONTAL AXIS IS TIME\n",
    "#vertical axis is the position or the position estimate"
   ]
  },
  {
   "cell_type": "markdown",
   "metadata": {},
   "source": [
    "### 2 (d) Effect of Incomplete Model\n",
    "\n"
   ]
  },
  {
   "cell_type": "markdown",
   "metadata": {},
   "source": [
    "What would happen if we assumed that the velocity of the object, $X_2(n)$, is constant at 4 for all $n \\in \\{0,1,2, \\dots , 30\\}$, and reduced the model to\n",
    "\n",
    "$$ X_1(n+1) = X_1(n) + 4 + V_1(n)? $$\n",
    "\n",
    "Using the <span style=\"color:blue; font-family:Courier\">predict</span> and <span style=\"color:blue; font-family:Courier\">update</span> functions you wrote <b> in the water tank filling question</b> with <b>only the position measurements</b> $\\{Y_1(n)\\}_{n=1}^{30}$ and the parameters $a=1, u=4, \\color{red}{\\sigma_V^2 = 4, \\sigma_W^2 = 4}$ and $\\hat{\\ X}_1(0|0) \\sim \\mathcal N(11, 3)$, obtain the position estimates $\\{\\hat{\\ X}_1(n|n)\\}_{n=1}^{30}$. Plot the position estimates $\\{\\hat{\\ X}_1(n|n)\\}_{n=1}^{30}$ along with the estimates given by part 2(c) and the true values <span style=\"font-family:Courier\">x_true</span>. (Feel free to go back to part (b) and generate a new trajectory <span style=\"font-family:Courier\">x_true</span> if you cannot observe a conspicuous difference between the estimates.)"
   ]
  },
  {
   "cell_type": "code",
   "execution_count": null,
   "metadata": {
    "collapsed": true
   },
   "outputs": [],
   "source": [
    "#your code here\n",
    "#HORIZONTAL AXIS IS TIME\n",
    "#vertical axis is the position or the position estimate"
   ]
  }
 ],
 "metadata": {
  "anaconda-cloud": {},
  "kernelspec": {
   "display_name": "Python [conda root]",
   "language": "python",
   "name": "conda-root-py"
  },
  "language_info": {
   "codemirror_mode": {
    "name": "ipython",
    "version": 3
   },
   "file_extension": ".py",
   "mimetype": "text/x-python",
   "name": "python",
   "nbconvert_exporter": "python",
   "pygments_lexer": "ipython3",
   "version": "3.5.2"
  }
 },
 "nbformat": 4,
 "nbformat_minor": 0
}
