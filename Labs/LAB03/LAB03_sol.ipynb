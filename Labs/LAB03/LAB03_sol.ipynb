{
 "cells": [
  {
   "cell_type": "markdown",
   "metadata": {},
   "source": [
    "# Lab3 - SOLD!\n",
    "\n",
    "\n",
    "#### Authors:\n",
    "v1.0 (2016 Spring) Kabir Chandrasekher, Tony Duan, David Marn, Ashvin Nair, Kangwook Lee, Kannan Ramchandran\n",
    "\n",
    "v1.1 (2017 Spring) Tavor Baharav, Kabir Chandrasekhar, Sinho Chewi, Andrew Liu, Kamil Nar, David Wang, and Kannan Ramchandran\n",
    "\n",
    "\n",
    "<table>\n",
    "<tr>\n",
    "<td>\n",
    "<img src=\"http://i.imgur.com/M0E5ZbL.jpg\" alt=\"Google Ads\" style=\"width: 450px;\">\n",
    "</td>\n",
    "<td>\n",
    "<img src=\"http://i.imgur.com/uC3mhpk.jpg\" alt=\"FCC Spectrum\" style=\"width: 450px;\">\n",
    "</td>\n",
    "</tr>\n",
    "</table>\n",
    "Be it frequency bandwidth or ads that we \"see\" everyday (thanks Adblock Plus!), we're constantly asking ourselves how to distribute goods in a \"fair\" manner. Optimal allocation of rival goods is a hot question in both theoretical EE research (see research articles by Sahai [[1]](#References) and Harrison [[2]](#References)) and in society as a philosophical conundrum (see books by Nozick [[3]](#References) or Rawles [[4]](#References)).\n",
    "\n",
    "## Introduction\n",
    "\n",
    "If we want to use math and probability to gain some insight into this dilemma, we must first set up a theoretical model of an <b>auction</b> - which is basically a mechanism. \n",
    "\n",
    "An auction has a <b>seller</b>, who is trying to sell <b>one</b> item. Multiple <b>buyers</b> (synonymous with \"bidder\") - there are $n$ of them - are interested in purchasing this item, but the item can only be sold to one buyer. Each buyer associates a value to an item (how much is this item worth <i>to them</i>). These values usually differ and may or may not be independent of one another. Call buyer $i$'s value of an item $x_i$. Each buyer then bids $\\beta_i (x_i)$, a function of $x_i$. This is person $i$'s bidding function. The seller then sells the item to one of the buyers according to some mechanism $M$. \n",
    "\n",
    "<img src=\"http://worldartsme.com/images/auction-gavel-clipart-1.jpg\" alt=\"auction diagram\" style=\"width:100px;\">\n",
    "\n",
    "We will attempt to answer some basic questions about auctions. We are interested in:\n",
    "<ul>\n",
    "<li> Seller revenue, i.e. how much does the seller make?</li>\n",
    "<li> Buyer profit - what, if any, is the difference between the winning bid and the buyer's value of an item? </li> \n",
    "<li> Difference between mechanisms - what difference does the type of auction have on the buyer? What about the seller? How do reserves affect them? </li>\n",
    "</ul>\n",
    "\n"
   ]
  },
  {
   "cell_type": "markdown",
   "metadata": {},
   "source": [
    "## Assumptions\n",
    "We assume that this is a fair and reasonable auction. See [auction details](#Definitions) for a more precise definition, but in general, these assumptions simply mean that the auction operates as you would expect."
   ]
  },
  {
   "cell_type": "markdown",
   "metadata": {},
   "source": [
    "# Q1) First Price Auction (FPA)\n",
    "In this auction, each buyer makes one bid (\"offer\") to the seller. The seller sells the item to the highest bidder for that amount. \n",
    "\n",
    "Example of an ad auction:\n",
    "<table>\n",
    "<tr>\n",
    "<th>Advertiser</th>\n",
    "<th>Bid</th>\n",
    "<th>Ad shown?</th>\n",
    "<th>Price paid</th>\n",
    "</tr>\n",
    "<tr>\n",
    "<td>Abra</td>\n",
    "<td>\\$5</td>\n",
    "<td>Yes</td>\n",
    "<td>\\$5</td>\n",
    "</tr>\n",
    "<tr>\n",
    "<td>Bulbasaur</td>\n",
    "<td>\\$3</td>\n",
    "<td>No</td>\n",
    "<td>\\$0</td>\n",
    "</tr>\n",
    "<tr>\n",
    "<td>Charmander</td>\n",
    "<td>\\$2</td>\n",
    "<td>No</td>\n",
    "<td>\\$0</td>\n",
    "</tr>\n",
    "</table>\n",
    "In this example, the seller revenue is \\$5.\n",
    "\n",
    "Suppose that we know that all buyers draw their values uniformly at random from the $(0,1)$ interval. Given that you are person $i$, valuing the item at $x_i$, how much should you bid? Suppose that everyone else is extremely risk averse, meaning that their function is $\\beta_j(x_j) = x_j, \\forall j \\neq i$. \n",
    "\n",
    "Try to maximize your profit (or expected utility, as referred in the homework), using the bidding function you derived in your homework!"
   ]
  },
  {
   "cell_type": "markdown",
   "metadata": {},
   "source": [
    "### Auction Simulator\n",
    "We will begin by building a simulator for our auctions"
   ]
  },
  {
   "cell_type": "code",
   "execution_count": 19,
   "metadata": {
    "collapsed": false
   },
   "outputs": [
    {
     "name": "stderr",
     "output_type": "stream",
     "text": [
      "//anaconda/lib/python2.7/site-packages/matplotlib/font_manager.py:273: UserWarning: Matplotlib is building the font cache using fc-list. This may take a moment.\n",
      "  warnings.warn('Matplotlib is building the font cache using fc-list. This may take a moment.')\n"
     ]
    }
   ],
   "source": [
    "import numpy as np\n",
    "import matplotlib.pyplot as plt\n",
    "from scipy.special import lambertw\n",
    "\n",
    "%matplotlib inline\n",
    "\n",
    "def simulate_FPA(num_players, beta_fn, distribution, num_trials=1000):\n",
    "    cumulative_profit = 0.0\n",
    "    profit_timeseries = np.zeros(num_trials)\n",
    "    num_wins = 0\n",
    "    for i in range(num_trials):\n",
    "        valuations = np.zeros(num_players)\n",
    "    \n",
    "        if distribution == \"uniform\":\n",
    "            valuations = np.random.uniform(size=num_players)\n",
    "        elif distribution == \"exponential\":\n",
    "            valuations = np.random.exponential(0.5, size=num_players)\n",
    "        else:\n",
    "            print \"Unknown distribution\"\n",
    "            return\n",
    "        \n",
    "        bids = np.copy(valuations)\n",
    "        # change your bid based on your beta function\n",
    "        bids[0] = beta_fn(valuations[0])\n",
    "        winner = np.argmax(bids)\n",
    "        if winner == 0:\n",
    "            num_wins += 1\n",
    "            cumulative_profit += valuations[0] - bids[0]\n",
    "        profit_timeseries[i] = cumulative_profit\n",
    "    print \"Number of Wins: \", num_wins\n",
    "    return profit_timeseries"
   ]
  },
  {
   "cell_type": "markdown",
   "metadata": {},
   "source": [
    "### Q1 a) FPA uniform\n",
    "Now, run a simulation for 1000 rounds with two buyers, and your optimized bidding function. Plot your cumulative profit as it evolves over time. How much can you earn on average? How do your bidding function, cumulative profit, and expected profit change if we have $n$ other bidders (plot with $n = 10$)? Explain the differences between these graphs."
   ]
  },
  {
   "cell_type": "code",
   "execution_count": 20,
   "metadata": {
    "collapsed": false
   },
   "outputs": [
    {
     "name": "stdout",
     "output_type": "stream",
     "text": [
      "Number of Wins:  251\n",
      "Average Profit: 0.0811479238872\n",
      "Total Profit:  81.1479238872\n"
     ]
    },
    {
     "data": {
      "text/plain": [
       "[<matplotlib.lines.Line2D at 0x11015cbd0>]"
      ]
     },
     "execution_count": 20,
     "metadata": {},
     "output_type": "execute_result"
    },
    {
     "data": {
      "image/png": "[encoded data removed]",
      "text/plain": [
       "<matplotlib.figure.Figure at 0x11015c3d0>"
      ]
     },
     "metadata": {},
     "output_type": "display_data"
    }
   ],
   "source": [
    "def beta(valuation):\n",
    "    return valuation / 2\n",
    "\n",
    "results = simulate_FPA(2, beta, \"uniform\", 1000)\n",
    "expectedProfits = [1.0/12*x for x in range(1,1001)]\n",
    "print \"Average Profit:\", results[999] / 1000\n",
    "print \"Total Profit: \", results[999]\n",
    "plt.figure()\n",
    "plt.plot(results)\n",
    "plt.plot(expectedProfits)\n",
    "\n",
    "# expected profit = 1000/12 ~ 83.33 over 1000 rounds"
   ]
  },
  {
   "cell_type": "code",
   "execution_count": 22,
   "metadata": {
    "collapsed": false
   },
   "outputs": [
    {
     "name": "stdout",
     "output_type": "stream",
     "text": [
      "Number of Wins:  34\n",
      "Average Profit: 0.00283157500103\n",
      "Total Profit: 2.83157500103\n"
     ]
    },
    {
     "data": {
      "text/plain": [
       "[<matplotlib.lines.Line2D at 0x110542a10>]"
      ]
     },
     "execution_count": 22,
     "metadata": {},
     "output_type": "execute_result"
    },
    {
     "data": {
      "image/png": "[encoded data removed]",
      "text/plain": [
       "<matplotlib.figure.Figure at 0x11054a490>"
      ]
     },
     "metadata": {},
     "output_type": "display_data"
    }
   ],
   "source": [
    "n = 10\n",
    "\n",
    "def beta2(valuation):\n",
    "    return n * valuation / (n + 1)\n",
    "\n",
    "results = simulate_FPA(n + 1, beta2, \"uniform\", 1000)\n",
    "expectedProfits = [1.0*(n**n)/(((n+1)**(n+1))*(n+2))*x for x in range(1,1001)]\n",
    "print \"Average Profit:\", results[999] / 1000\n",
    "print \"Total Profit:\", results[999]\n",
    "plt.figure()\n",
    "plt.plot(results)\n",
    "plt.plot(expectedProfits)\n",
    "\n",
    "# expected profit ~ 2.92"
   ]
  },
  {
   "cell_type": "markdown",
   "metadata": {},
   "source": [
    "Bidding against n other people, we see that our expected winnings (W) for valuation $a \\in (0,1)$ will be\n",
    "$$E[W] = E[(a-\\beta(a)) \\beta(a)^n] = E[(a - \\frac{na}{n+1}) (\\frac{na}{n+1})^n] = \\frac{n^n}{(n+1)^{n+1}} E[a^{n+1}] = \\frac{n^n}{(n+1)^{n+1}(n+2)}$$"
   ]
  },
  {
   "cell_type": "markdown",
   "metadata": {
    "collapsed": true
   },
   "source": [
    "We can see that with n = 2, the graph is much smoother, whereas with n = 10, you can clearly see the individual steps / wins. This is because in the n = 10 case, we win much less of the time, meaning that in a much larger percentage of the trials, no profit is made, as we lose the auction."
   ]
  },
  {
   "cell_type": "markdown",
   "metadata": {},
   "source": [
    "### Q1 b) FPA exponential\n",
    "Now assume that everyone (including you) draws their values from the exponential distribution with parameter $\\lambda = 2$. Assuming everyone else is still bidding their valuation, how good of a bidding function can you empirically create for bidding against $n = 5$ other people? Note that it is not necessary to find a closed form solution. Additionally, feel free to reuse code from previous parts. "
   ]
  },
  {
   "cell_type": "code",
   "execution_count": 24,
   "metadata": {
    "collapsed": false
   },
   "outputs": [
    {
     "name": "stdout",
     "output_type": "stream",
     "text": [
      "Number of Wins:  93\n",
      "Average Profit: 0.0422553431782\n",
      "Total Profit: 42.2553431782\n"
     ]
    },
    {
     "data": {
      "text/plain": [
       "[<matplotlib.lines.Line2D at 0x1067e8310>]"
      ]
     },
     "execution_count": 24,
     "metadata": {},
     "output_type": "execute_result"
    },
    {
     "data": {
      "image/png": "[encoded data removed]",
      "text/plain": [
       "<matplotlib.figure.Figure at 0x1102d0f10>"
      ]
     },
     "metadata": {},
     "output_type": "display_data"
    }
   ],
   "source": [
    "Lambda = 2\n",
    "n = 6\n",
    "\n",
    "def beta3(your_valuation): #exact closed form solution, don't worry about derivation\n",
    "    return your_valuation + 1.0/Lambda/n - 1.0/Lambda * np.real(lambertw(np.exp(your_valuation*Lambda+1.0/n)/n))\n",
    "\n",
    "results = simulate_FPA(n, beta3, \"exponential\", 1000)\n",
    "expectedProfits = [.04373*x for x in range(1,1001)]\n",
    "print \"Average Profit:\", results[999] / 1000\n",
    "print \"Total Profit:\", results[999]\n",
    "plt.figure()\n",
    "plt.plot(results)\n",
    "plt.plot(expectedProfits)\n",
    "# expected profit empirically ~ 43.73"
   ]
  },
  {
   "cell_type": "markdown",
   "metadata": {},
   "source": [
    "Bidding against n other people, we see that our expected winnings (W) for valuation $a \\sim exp(\\lambda)$, with bid $x = \\beta(a)$ will be\n",
    "$$E[W] = E[(a-x) (1-e^{-\\lambda x})]$$\n",
    "taking the derivative of this with respect to x and setting to 0 to find the maximum (we can do this freely, as we are simply computing x for a fixed value of a, so a is a constant here with respect to x), we get:\n",
    "$$-(1-e^{-\\lambda x})^n + (a-x)n(1-e^{-\\lambda x})^{n-1}\\lambda e^{-\\lambda x} = 0$$\n",
    "$$1 + (a-x)n \\lambda = e^{\\lambda x}$$\n",
    "We plug this in to wolfram alpha to solve, yieldin\n",
    "$$x = a + \\frac{1}{n\\lambda} - \\frac{1}{\\lambda} W(\\frac{e^{\\lambda a+ \\frac{1}{n}}}{n})$$\n",
    "Where W is the <a href = \"http://reference.wolfram.com/language/ref/ProductLog.html\">product log function</a>. This level of math was not expected for this class. In that same vein, the expected value of this function was determined empirically. "
   ]
  },
  {
   "cell_type": "markdown",
   "metadata": {},
   "source": [
    "# Q2) Second Price Auction (SPA)\n",
    "In this auction, each buyer again makes one secret bid. The bidder with the highest bid wins, but they only pay the second highest value. Google uses a modified version of this auction in practice ( see <a> https://support.google.com/adsense/answer/160525?hl=en </a>). \n",
    "\n",
    "Here is an example of a second price ad auction. Only one person gets to show the ad:  \n",
    "\n",
    "<table>\n",
    "<tr>\n",
    "<th>Advertiser</th>\n",
    "<th>Bid</th>\n",
    "<th>Ad shown?</th>\n",
    "<th>Price paid</th>\n",
    "</tr>\n",
    "<tr>\n",
    "<td>Abra</td>\n",
    "<td>\\$5</td>\n",
    "<td>Yes</td>\n",
    "<td>\\$3</td>\n",
    "</tr>\n",
    "<tr>\n",
    "<td>Bulbasaur</td>\n",
    "<td>\\$3</td>\n",
    "<td>No</td>\n",
    "<td>\\$0</td>\n",
    "</tr>\n",
    "<tr>\n",
    "<td>Charmander</td>\n",
    "<td>\\$2</td>\n",
    "<td>No</td>\n",
    "<td>\\$0</td>\n",
    "</tr>\n",
    "</table>\n",
    "In this example, the seller revenue is \\$3.\n",
    "\n",
    "Operating under the same assumptions as in the first price option case, we assume all buyers draw their values uniformly at random from the $(0,1)$ interval. Given that you are person $i$, valuing the item at $x_i$, how much should you bid? Suppose that everyone else is extremely risk averse, meaning that their function is $\\beta_j(x_j) = x_j, \\forall j \\neq i$. We will show that this is a good valuation function in the homework (Q7d).\n",
    "\n",
    "Modify your simulator to work for the second-price auction case, or feel free to copy and alter you first price simulator."
   ]
  },
  {
   "cell_type": "markdown",
   "metadata": {},
   "source": [
    "## Q2 a) SPA profit\n",
    "Plot your cumulative profit for two buyers as it evolves over time. How much can you earn on average? How do your bidding function, cumulative profit, and expected profit change if we have $n = 5$ other bidders? "
   ]
  },
  {
   "cell_type": "code",
   "execution_count": 25,
   "metadata": {
    "collapsed": true
   },
   "outputs": [],
   "source": [
    "def simulate_SPA(num_players, beta_fn, distribution, num_trials=1000):\n",
    "    cumulative_profit = 0.0\n",
    "    profit_timeseries = np.zeros(num_trials)\n",
    "    num_wins = 0\n",
    "    for i in range(num_trials):\n",
    "        valuations = np.zeros(num_players)\n",
    "    \n",
    "        if distribution == \"uniform\":\n",
    "            valuations = np.random.uniform(size=num_players)\n",
    "        elif distribution == \"exponential\":\n",
    "            valuations = np.random.exponential(0.5, size=num_players)\n",
    "        else:\n",
    "            print \"Unknown distribution\"\n",
    "            return\n",
    "        \n",
    "        bids = np.copy(valuations)\n",
    "        # change your bid based on your beta function\n",
    "        bids[0] = beta_fn(valuations[0])\n",
    "        winner = np.argmax(bids)\n",
    "        # delete the highest bid\n",
    "        bids = np.delete(bids, winner)\n",
    "        if winner == 0:\n",
    "            num_wins += 1\n",
    "            cumulative_profit += valuations[0] - np.max(bids)\n",
    "        profit_timeseries[i] = cumulative_profit\n",
    "    print \"Number of Wins: \", num_wins\n",
    "    return profit_timeseries"
   ]
  },
  {
   "cell_type": "code",
   "execution_count": 26,
   "metadata": {
    "collapsed": false
   },
   "outputs": [
    {
     "name": "stdout",
     "output_type": "stream",
     "text": [
      "Number of Wins:  499\n",
      "Average Profit: 0.172311798018\n",
      "Total Profit: 172.311798018\n"
     ]
    },
    {
     "data": {
      "text/plain": [
       "[<matplotlib.lines.Line2D at 0x110a72890>]"
      ]
     },
     "execution_count": 26,
     "metadata": {},
     "output_type": "execute_result"
    },
    {
     "data": {
      "image/png": "[encoded data removed]",
      "text/plain": [
       "<matplotlib.figure.Figure at 0x10688d690>"
      ]
     },
     "metadata": {},
     "output_type": "display_data"
    }
   ],
   "source": [
    "n = 2\n",
    "def beta4(valuation):\n",
    "    return valuation\n",
    "\n",
    "results = simulate_SPA(n, beta4, \"uniform\", 1000)\n",
    "print \"Average Profit:\", results[999] / 1000\n",
    "print \"Total Profit:\", results[999]\n",
    "expectedProfit = [1.0/(n)/(n+1)*x for x in range(1,1001)]\n",
    "plt.figure()\n",
    "plt.plot(results)\n",
    "plt.plot(expectedProfit)\n",
    "# expected profit of 1000/6 ~ 166.66"
   ]
  },
  {
   "cell_type": "code",
   "execution_count": 27,
   "metadata": {
    "collapsed": false
   },
   "outputs": [
    {
     "name": "stdout",
     "output_type": "stream",
     "text": [
      "Number of Wins:  161\n",
      "Average Profit: 0.0227047461522\n",
      "Total Profit: 22.7047461522\n"
     ]
    },
    {
     "data": {
      "text/plain": [
       "[<matplotlib.lines.Line2D at 0x110aafe50>]"
      ]
     },
     "execution_count": 27,
     "metadata": {},
     "output_type": "execute_result"
    },
    {
     "data": {
      "image/png": "[encoded data removed]",
      "text/plain": [
       "<matplotlib.figure.Figure at 0x106050d10>"
      ]
     },
     "metadata": {},
     "output_type": "display_data"
    }
   ],
   "source": [
    "n = 6\n",
    "def beta4(valuation):\n",
    "    return valuation\n",
    "\n",
    "results = simulate_SPA(n, beta4, \"uniform\", 1000)\n",
    "print \"Average Profit:\", results[999] / 1000\n",
    "print \"Total Profit:\", results[999]\n",
    "expectedProfit = [1.0/(n)/(n+1)*x for x in range(1,1001)]\n",
    "plt.figure()\n",
    "plt.plot(results)\n",
    "plt.plot(expectedProfit)\n",
    "# Expected profit = 1000/42 ~ 23.81"
   ]
  },
  {
   "cell_type": "markdown",
   "metadata": {},
   "source": [
    "Bidding against n other people, we see that our expected winnings (W) for valuation $a \\in (0,1)$ will be \n",
    "$$E[W] = E[(a-\\beta(a)) a^n] = E[(a - \\frac{na}{n+1}) a^n] = \\frac{1}{(n+1)} E[a^{n+1}] = \\frac{1}{(n+1)(n+2)}$$"
   ]
  },
  {
   "cell_type": "markdown",
   "metadata": {},
   "source": [
    "### Q2 b) Seller Revenue\n",
    "Now, let's try and see how things look from the other side. Given that all $n$ buyers draw their values uniformly at random from the (0,1) interval, should the seller choose to hold a First Price Auction, or a Second Price Auction, given that people use optimal bidding functions as you solved for above and in the homework? Show your answer by plotting the revenue from both auctions."
   ]
  },
  {
   "cell_type": "code",
   "execution_count": 28,
   "metadata": {
    "collapsed": false
   },
   "outputs": [
    {
     "name": "stdout",
     "output_type": "stream",
     "text": [
      "Seller Earned:  71.4992530192\n",
      "Seller Earned:  71.5420668821\n"
     ]
    },
    {
     "data": {
      "text/plain": [
       "[<matplotlib.lines.Line2D at 0x110cbc850>]"
      ]
     },
     "execution_count": 28,
     "metadata": {},
     "output_type": "execute_result"
    },
    {
     "data": {
      "image/png": "[encoded data removed]",
      "text/plain": [
       "<matplotlib.figure.Figure at 0x110789250>"
      ]
     },
     "metadata": {},
     "output_type": "display_data"
    }
   ],
   "source": [
    "def simulate_seller(num_players, distribution, isFirstPrice, num_trials=1000):\n",
    "    seller_earnings = 0.0\n",
    "    revenue_timeseries = np.zeros(num_trials)\n",
    "\n",
    "    for i in range(num_trials):\n",
    "        valuations = np.zeros(num_players)\n",
    "    \n",
    "        if distribution == \"uniform\":\n",
    "            valuations = np.random.uniform(size=num_players)\n",
    "        elif distribution == \"exponential\":\n",
    "            valuations = np.random.exponential(0.5, size=num_players)\n",
    "        else:\n",
    "            print \"Unknown distribution\"\n",
    "            return\n",
    "        \n",
    "        bids = np.copy(valuations)\n",
    "        # change your bid based on your beta function\n",
    "        if isFirstPrice:\n",
    "            bids = (num_players - 1) * bids / num_players\n",
    "        else:\n",
    "            winner = np.argmax(bids)\n",
    "            bids = np.delete(bids,winner)\n",
    "        seller_earnings += np.max(bids)\n",
    "        if i == 0:\n",
    "            revenue_timeseries[i] = np.max(bids)\n",
    "        else:\n",
    "            revenue_timeseries[i] = revenue_timeseries[i-1] + np.max(bids)\n",
    "    print \"Seller Earned: \", seller_earnings \n",
    "    return revenue_timeseries\n",
    "    \n",
    "n = 6\n",
    "num_trials = 100\n",
    "\n",
    "FPA = simulate_seller(n, \"uniform\", True, num_trials)\n",
    "SPA = simulate_seller(n, \"uniform\", False, num_trials)\n",
    "\n",
    "plt.figure()\n",
    "plt.plot(FPA)\n",
    "plt.plot(SPA)"
   ]
  },
  {
   "cell_type": "markdown",
   "metadata": {},
   "source": [
    "The seller revenue is the same in the two cases! We look at the two cases:\n",
    "\n",
    "FPA: Everyone is bidding $\\frac{n-1}{n}$ times their valuation, so we know that everyone's bid is distributed uniformly on the interval (0, $\\frac{n-1}{n}$). By symmetry, we can see that the max of n of these bids will be $\\frac{n}{n+1} \\cdot \\frac{n-1}{n} = \\frac{n-1}{n+1}$, and in a FPA, we earn the max bid.\n",
    "\n",
    "SPA: Everyone is bidding their valuation, and we earn the second highest bid in revenue. In expectation, the ith lowest bid out of the n will be $\\frac{i}{n+1}$. We are not looking for the highest bid, which will be $\\frac{n}{n+1}$ on average, as this is a second price auction, so we look at the second highest of the bids, which will be in expectation $\\frac{n-1}{n+1}$.\n",
    "\n",
    "As we can see, no matter the style of auction, we end up with an expected seller revenue of $\\frac{n-1}{n+1}$ per auction."
   ]
  },
  {
   "cell_type": "markdown",
   "metadata": {},
   "source": [
    "# Q3) First Price Auction with a Reserve\n",
    "\n",
    "In this scenario, you are again operating as the $\\textbf{seller}$. You want to maximize your revenue selling $k$ identical items over $a$ auctions, $a\\geq k$, and thus set a reserve price for each auction. This means that unless the maximum bid in a given auction is above the reserve price you set, the transaction is not completed, and no money or goods exchange hands. If the highest bid is above the reserve price, then the transaction occurs as per usual, with the winner paying what he bid in exchange for the item.\n",
    "\n",
    "Here is an example of a first price auction with a reserve of $4:  \n",
    "\n",
    "<table>\n",
    "<tr>\n",
    "<th>Advertiser</th>\n",
    "<th>Bid</th>\n",
    "<th>Ad shown?</th>\n",
    "<th>Price paid</th>\n",
    "</tr>\n",
    "<tr>\n",
    "<td>Abra</td>\n",
    "<td>\\$5</td>\n",
    "<td>Yes</td>\n",
    "<td>\\$5</td>\n",
    "</tr>\n",
    "<tr>\n",
    "<td>Bulbasaur</td>\n",
    "<td>\\$3</td>\n",
    "<td>No</td>\n",
    "<td>\\$0</td>\n",
    "</tr>\n",
    "<tr>\n",
    "<td>Charmander</td>\n",
    "<td>\\$2</td>\n",
    "<td>No</td>\n",
    "<td>\\$0</td>\n",
    "</tr>\n",
    "</table>\n",
    "In this example, the seller revenue is \\$5.\n",
    "\n",
    "\n",
    "Whereas, here is an example of that same auction with a reserve of $6:\n",
    "\n",
    "<table>\n",
    "<tr>\n",
    "<th>Advertiser</th>\n",
    "<th>Bid</th>\n",
    "<th>Ad shown?</th>\n",
    "<th>Price paid</th>\n",
    "</tr>\n",
    "<tr>\n",
    "<td>Abra</td>\n",
    "<td>\\$5</td>\n",
    "<td>No</td>\n",
    "<td>\\$0</td>\n",
    "</tr>\n",
    "<tr>\n",
    "<td>Bulbasaur</td>\n",
    "<td>\\$3</td>\n",
    "<td>No</td>\n",
    "<td>\\$0</td>\n",
    "</tr>\n",
    "<tr>\n",
    "<td>Charmander</td>\n",
    "<td>\\$2</td>\n",
    "<td>No</td>\n",
    "<td>\\$0</td>\n",
    "</tr>\n",
    "</table>\n",
    "In this example, the seller revenue is \\$0.\n",
    "\n",
    "\n",
    "Using a similar framework to before, we are now going to try to optimize the reserve to maximize the seller's profit."
   ]
  },
  {
   "cell_type": "markdown",
   "metadata": {
    "collapsed": true
   },
   "source": [
    "### Q3 a) Varying reserve\n",
    "Suppose that you have 1 iPhone that you can try to sell at 100 different auctions, with one auction occuring each day, where at each auction n bidders bid independently according to a fixed bidding function and a fixed but unknown distribution. If you can change the reserve for each auction, what should your reserve strategy as the seller be?\n",
    "\n",
    "Below, please write an explanation of your strategy in markdown (no code needed)"
   ]
  },
  {
   "cell_type": "markdown",
   "metadata": {
    "collapsed": true
   },
   "source": [
    "This is a real world example of the secretary problem! Our optimal solution is to set the reserve to infinity for the first $\\frac{100}{e}$ auctions, keeping track of the maximum winning bid, and setting the reserve for the remaining auctions to be that maximum bid from the first $\\frac{100}{e}$ auctions. If we have yet to sell the iphone by the last auction, we set the reserve to 0."
   ]
  },
  {
   "cell_type": "markdown",
   "metadata": {},
   "source": [
    "### Q3 b) Fixed reserve\n",
    "Now suppose that you have 10 iPhones that you can take to 100 different auctions, with one auction occuring each day, where at each auction n = 5 bidders draw their values uniformly at random from the exponential distribution with parameter 2, with $\\beta_j(x_j) = x_j, \\forall j$. Empirically try and optimize one fixed reserve value to use over all the auctions to maximize your expected total revenue."
   ]
  },
  {
   "cell_type": "code",
   "execution_count": 29,
   "metadata": {
    "collapsed": false
   },
   "outputs": [
    {
     "data": {
      "text/plain": [
       "2.1954193711280823"
      ]
     },
     "execution_count": 29,
     "metadata": {},
     "output_type": "execute_result"
    }
   ],
   "source": [
    "def simulate_FPA_seller_reserve(num_players, distribution, reserve, num_items, num_auctions=1000):\n",
    "    seller_earnings = 0.0\n",
    "    for i in range(num_auctions):\n",
    "        if num_items == 0:\n",
    "            break\n",
    "        valuations = np.zeros(num_players)\n",
    "        if distribution == \"uniform\":\n",
    "            valuations = np.random.uniform(size=num_players)\n",
    "        elif distribution == \"exponential\":\n",
    "            valuations = np.random.exponential(0.5, size=num_players)\n",
    "        else:\n",
    "            print \"Unknown distribution\"\n",
    "            return\n",
    "        bids = np.copy(valuations)\n",
    "        if np.max(bids) > reserve and num_items>0:\n",
    "            seller_earnings += np.max(bids)\n",
    "            num_items-=1\n",
    "    return seller_earnings\n",
    "\n",
    "\n",
    "def computeExpectedEmpirical(a,k,r):\n",
    "    summ = 0\n",
    "    num_trials = 100\n",
    "    for i in range(num_trials):\n",
    "        summ += simulate_FPA_seller_reserve(1, \"exponential\", r, k, a)\n",
    "    return summ / num_trials\n",
    "\n",
    "\n",
    "def computeExpectedDP(a,k,r):\n",
    "    dpArray = np.zeros((k,a))\n",
    "    pLose = (1 - np.exp(-Lambda*r))\n",
    "    pWin = np.exp(-Lambda*r)\n",
    "    for i in range(1,k):\n",
    "        for j in range(1,a):\n",
    "            dpArray[i][j] = pLose*dpArray[i][j-1] + pWin*(dpArray[i-1][j-1]+r+1.0/Lambda)\n",
    "    return dpArray[items-1,auctions-1]\n",
    "\n",
    "\n",
    "Lambda = 2\n",
    "auctions = 1000\n",
    "items = 10\n",
    "\n",
    "\n",
    "def calcReserveBinaryExp(a,k,n,num_iter):\n",
    "    lowr = 0\n",
    "    highr = 100\n",
    "    eps = 1e-10\n",
    "\n",
    "    for _ in range(num_iter):\n",
    "        if num_iter == 8:\n",
    "            eps = 1e-15\n",
    "#         print _,lowr,highr\n",
    "        currR = (lowr+highr)/2.0\n",
    "        currRevenue = computeExpectedDP(a,k,currR)\n",
    "#         currRevenue = computeExpectedEmpiricalUniform(a,k,currR)\n",
    "        currReps = currR + eps\n",
    "        currRevenueEps = computeExpectedDP(a,k,currReps)\n",
    "#         currRevenueEps = computeExpectedEmpiricalUniform(a,k,currReps)\n",
    "        if currRevenueEps >= currRevenue:\n",
    "            lowr = currR\n",
    "        else:\n",
    "            highr = currR\n",
    "    \n",
    "#     print (lowr+highr)/2.0\n",
    "    return (lowr+highr)/2.0\n",
    "\n",
    "calcReserveBinaryExp(auctions,items,n,25)\n",
    "\n",
    "#Reserve = 2.1954193711280823"
   ]
  },
  {
   "cell_type": "markdown",
   "metadata": {},
   "source": [
    "# Competition (optional)\n",
    "\n",
    "Now that we've got your attention, we'd like to announce our first lab competition! The top 3 teams (form teams of 2-3 people) will be given extra credit.\n",
    "\n",
    "The details of the competition are as follows: you are a seller trying to maximize your expected revenue selling $k$ identical items over $a$ different auctions, where $n$ bidders draw their values uniformly at random from the interval (0,1), with $\\beta_j(x_j) = x_j, \\forall j$. Your job as the seller is to set a single fixed reserve price $r$ to be used over all $a$ auctions, to maximize your revenue. You will submit your solution in a separate python file, _results.py_, which will contain the method calculateReserve(a,k,n), where $a$ = # of auctions, $k$ = # of items, and $n$ = # of bidders. You may include any additional helper functions and standard imports you want. We will allow your algorithm to run for __30 seconds__ for each (a,k,n) input, awarding you 0 revenue for that input tuple if you run over the time limit. We will be running your code with Python 2, if we are unable to run it, you will not be entered into the competition.\n",
    "\n",
    "Please include a comment at the top of your _results.py_ file with the names of the members of your team. Only submit this file once per team.\n",
    "\n",
    "Good Luck!"
   ]
  },
  {
   "cell_type": "code",
   "execution_count": 32,
   "metadata": {
    "collapsed": false
   },
   "outputs": [],
   "source": [
    "import numpy as np\n",
    "import time\n",
    "\n",
    "maxTimeAllowed = 30\n",
    "\n",
    "# Use binary search-esque method to find optimal reserve\n",
    "# we assume the revenue is a convex function wrt the reserve\n",
    "# we approximate revenue for a given (a,k,n,r) configuration with a DP solution\n",
    "    # but this can also be done empirically using our simulations,\n",
    "    # with some robustification\n",
    "def calcReserveBinary(a,k,n,num_iter):\n",
    "    lowr = 0\n",
    "    highr = 1\n",
    "    eps = 1e-10\n",
    "    start = time.time()\n",
    "    \n",
    "    for i in range(num_iter):\n",
    "        currLoopStart = time.time()\n",
    "        if i > 0 and (maxTimeAllowed-1) < (currLoopStart-start)*(i+1)/i:\n",
    "            print \"taking too long\"\n",
    "            break\n",
    "        if num_iter == 8:\n",
    "            eps = 1e-15\n",
    "\n",
    "        currR = (lowr+highr)/2.0\n",
    "        currRevenue = computeExpectedDPUniform(a,k,currR,n)\n",
    "#         currRevenue = computeExpectedEmpiricalUniform(a,k,currR,n)\n",
    "        currReps = currR + eps\n",
    "        currRevenueEps = computeExpectedDPUniform(a,k,currReps,n)\n",
    "#         currRevenueEps = computeExpectedEmpiricalUniform(a,k,currReps,n)\n",
    "        \n",
    "        if currRevenueEps >= currRevenue: #check to see which side of peak we're on\n",
    "            lowr = currR\n",
    "        else:\n",
    "            highr = currR\n",
    "    \n",
    "    rOpt = (lowr+highr)/2.0\n",
    "    return rOpt\n",
    "\n",
    "#dpArray[i,j] = expected profit selling i+1 items at j+1 auctions for (a,k,r,n)\n",
    "def computeExpectedDPUniform(a,k,r,n):\n",
    "    dpArray = np.zeros((k,a)) \n",
    "    pLose = r**n\n",
    "    pWin = 1 - r**n\n",
    "    eWin = 1.0*n/(n+1)*(1-r**(n+1))/(1-r**n)\n",
    "    for i in range(0,k):\n",
    "        dpArray[i,0] = pWin*eWin\n",
    "        \n",
    "    for j in range(1,a):\n",
    "        dpArray[0,j] = pLose*dpArray[0,j-1] + pWin*eWin\n",
    "\n",
    "    for i in range(1,k):\n",
    "        for j in range(1,a):\n",
    "            dpArray[i][j] = pLose*dpArray[i][j-1] + pWin*(dpArray[i-1][j-1]+eWin)\n",
    "    return dpArray[k-1,a-1]\n",
    "\n",
    "def simulate_FPA_seller_reserve(num_players, distribution, reserve, num_items, num_auctions=1000):\n",
    "    seller_earnings = 0.0\n",
    "    for i in range(num_auctions):\n",
    "        if num_items == 0:\n",
    "            break\n",
    "        valuations = np.zeros(num_players)\n",
    "        if distribution == \"uniform\":\n",
    "            valuations = np.random.uniform(size=num_players)\n",
    "        elif distribution == \"exponential\":\n",
    "            valuations = np.random.exponential(0.5, size=num_players)\n",
    "        else:\n",
    "            print \"Unknown distribution\"\n",
    "            return\n",
    "        bids = np.copy(valuations)\n",
    "        if np.max(bids) > reserve and num_items>0:\n",
    "            seller_earnings += np.max(bids)\n",
    "            num_items-=1\n",
    "    return seller_earnings\n",
    "\n",
    "# empirically computed expected profit selling i+1 items at j+1 auctions for (a,k,r,n)\n",
    "def computeExpectedEmpiricalUniform(a,k,r,n):\n",
    "    summ = 0\n",
    "    num_trials = 10000\n",
    "    for i in range(num_trials):\n",
    "        summ += simulate_FPA_seller_reserve(n, \"uniform\", r, k, a)\n",
    "    return 1.0*summ / num_trials\n",
    "\n",
    "\n",
    "def calculateReserve(a,k,n):\n",
    "    if a == k:\n",
    "        return 0\n",
    "    return calcReserveBinary(a,k,n,30) #run max 30 iterations\n",
    "\n",
    "# calculateReserve(10,9,7)"
   ]
  },
  {
   "cell_type": "code",
   "execution_count": 33,
   "metadata": {
    "collapsed": false
   },
   "outputs": [
    {
     "name": "stderr",
     "output_type": "stream",
     "text": [
      "/anaconda/lib/python2.7/site-packages/ipykernel/__main__.py:10: DeprecationWarning: using a non-integer number instead of an integer will result in an error in the future\n",
      "/anaconda/lib/python2.7/site-packages/ipykernel/__main__.py:12: DeprecationWarning: using a non-integer number instead of an integer will result in an error in the future\n"
     ]
    },
    {
     "data": {
      "text/plain": [
       "<matplotlib.text.Text at 0x11158ce50>"
      ]
     },
     "execution_count": 33,
     "metadata": {},
     "output_type": "execute_result"
    },
    {
     "data": {
      "image/png": "[encoded data removed]",
      "text/plain": [
       "<matplotlib.figure.Figure at 0x110e41ed0>"
      ]
     },
     "metadata": {},
     "output_type": "display_data"
    },
    {
     "data": {
      "image/png": "[encoded data removed]",
      "text/plain": [
       "<matplotlib.figure.Figure at 0x111574e50>"
      ]
     },
     "metadata": {},
     "output_type": "display_data"
    },
    {
     "data": {
      "image/png": "[encoded data removed]",
      "text/plain": [
       "<matplotlib.figure.Figure at 0x1115a18d0>"
      ]
     },
     "metadata": {},
     "output_type": "display_data"
    }
   ],
   "source": [
    "#to show the derivative of revenue as a function of reserve only changes sign once (our optimization method works)\n",
    "import matplotlib.pyplot as plt\n",
    "\n",
    "a = 10\n",
    "k = 4\n",
    "n = 4\n",
    "\n",
    "rJump = .001\n",
    "rVals = np.arange(0,1,rJump)\n",
    "revenue = np.zeros((1.0/rJump))\n",
    "for r in rVals:\n",
    "    revenue[r/rJump] = computeExpectedDPUniform(a,k,r,n)\n",
    "    \n",
    "fig = plt.figure()\n",
    "plt.plot(revenue)\n",
    "fig.suptitle('Revenue as a function of reserve', fontsize=20)\n",
    "# looks like a nice function to optimize!\n",
    "\n",
    "fig = plt.figure()\n",
    "plt.plot(np.diff(revenue, n=2))\n",
    "fig.suptitle('Second derivative', fontsize=20)\n",
    "#not convex, but...\n",
    "\n",
    "\n",
    "fig = plt.figure()\n",
    "plt.plot(np.sign(np.diff(revenue, n=1))) # sign of first derivative\n",
    "fig.suptitle('sign of first derivative', fontsize=20)\n",
    "# the derivative is positive up until the max, and negative after\n",
    "# this means we can perform a binary-esque search to find"
   ]
  },
  {
   "cell_type": "markdown",
   "metadata": {},
   "source": [
    "## References\n",
    "[1] Sahai, A., Mishra, M., Tandra, R., Woyach, K., 2009. Cognitive radios for spectrum sharing. IEEE Signal\n",
    "Processing Magazine , 140–146. <br />\n",
    "[2]  A. Sahai, K. Woyach, K. Harrison, H. Palaiyanur, and R. Tandra, “Towards a “theory of spectrum zoning”,” Allerton, Oct. 2009. <br />\n",
    "[3] Nozick, Robert. Anarchy, State, and Utopia. New York: Basic, 1974. Print. <br />\n",
    "[4] Rawls, J. A. (1971) A Theory of Justice. Cambridge, MA: Harvard University Press. <br />\n"
   ]
  },
  {
   "cell_type": "markdown",
   "metadata": {},
   "source": [
    "## Definitions\n",
    "For this model to work, we should start with a list of assumptions:\n",
    "<ul>\n",
    "<li> Infinite wealth: Each buyer can afford to pay their valuation of the item </li>\n",
    "<li> Anonymity: The only thing that matters is the buyer's bid, not the identity of the buyer (more formally, if buyer $i$ offers $x_i$ and wins against buyer $j$ who offers $x_j$, then buyer $j$ would win if she would offer $x_i + \\epsilon$) </li>\n",
    "<li> Privacy: Buyer $i$ only knows the value $x_i$ and does not know any bids or valuations $\\beta_j \\text{ or } x_j \\ \\forall j\\neq i$</li>\n",
    "<li> All auctions are sealed-bid auctions: Every buyer submits the bid simultaneously. </li>\n",
    "</ul>\n",
    "[Back to Assumptions](#Assumptions))"
   ]
  }
 ],
 "metadata": {
  "anaconda-cloud": {},
  "kernelspec": {
   "display_name": "Python [Root]",
   "language": "python",
   "name": "Python [Root]"
  },
  "language_info": {
   "codemirror_mode": {
    "name": "ipython",
    "version": 2
   },
   "file_extension": ".py",
   "mimetype": "text/x-python",
   "name": "python",
   "nbconvert_exporter": "python",
   "pygments_lexer": "ipython2",
   "version": "2.7.12"
  }
 },
 "nbformat": 4,
 "nbformat_minor": 0
}
